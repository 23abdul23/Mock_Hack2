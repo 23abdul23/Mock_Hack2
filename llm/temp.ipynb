{
 "cells": [
  {
   "cell_type": "code",
   "execution_count": 4,
   "id": "fca4f123",
   "metadata": {},
   "outputs": [
    {
     "data": {
      "text/plain": [
       "True"
      ]
     },
     "execution_count": 4,
     "metadata": {},
     "output_type": "execute_result"
    }
   ],
   "source": [
    "import google.generativeai as genai\n",
    "from dotenv import load_dotenv\n",
    "import os\n",
    "\n",
    "load_dotenv()\n",
    "\n",
    "\n"
   ]
  },
  {
   "cell_type": "code",
   "execution_count": 7,
   "id": "9b98d0a3",
   "metadata": {},
   "outputs": [],
   "source": [
    "genai.configure(api_key= os.environ.get(\"GEMINI_API\"))\n",
    "\n",
    "model = genai.GenerativeModel('gemini-2.5-flash')"
   ]
  },
  {
   "cell_type": "code",
   "execution_count": 12,
   "id": "c6fa27f2",
   "metadata": {},
   "outputs": [
    {
     "name": "stdout",
     "output_type": "stream",
     "text": [
      "This crop disease is **Bacterial Spot**.\n",
      "\n",
      "This is a **Tomato** plant.\n",
      "\n",
      "To solve this problem for tomato bacterial spot, the following actions could be taken:\n",
      "\n",
      "*   **Remove Infected Parts:** Immediately remove and destroy (do not compost) any infected leaves, stems, or fruit to reduce the spread of bacteria.\n",
      "*   **Improve Air Circulation:** Prune lower leaves and ensure adequate spacing between plants to improve air circulation and reduce humidity around the foliage, which favors bacterial growth.\n",
      "*   **Water Properly:** Water plants at the base, avoiding overhead irrigation that splashes soil and bacteria onto leaves and keeps foliage wet. Water in the morning so leaves can dry quickly.\n",
      "*   **Crop Rotation:** Do not plant tomatoes or other susceptible crops (peppers, eggplant) in the same location for at least 2-3 years.\n",
      "*   **Sanitation:** Clean gardening tools after use, especially if they came into contact with infected plants. Remove all plant debris at the end of the season.\n",
      "*   **Resistant Varieties:** For future plantings, consider using tomato varieties that are resistant or tolerant to bacterial spot.\n",
      "*   **Seed Treatment:** If growing from seed, use certified disease-free seeds or consider a hot water seed treatment (though this requires careful temperature control).\n",
      "\n",
      "**Resources/Products:**\n",
      "\n",
      "*   **Copper-based bactericides:** These are the primary chemical control for bacterial spot. They act as a preventative measure and can help manage existing infections, but will not cure severely infected leaves. Apply according to label instructions, especially during periods of wet, warm weather.\n",
      "*   **Biological Control Agents:** Some products containing *Bacillus subtilis* or other beneficial microbes can be used as a preventative spray to help suppress disease development.\n"
     ]
    }
   ],
   "source": [
    "# Load image\n",
    "img = Image.open(\"test_img.jpg\")\n",
    "\n",
    "# Prompt\n",
    "question = \"\"\"\n",
    "    Which crop disease is this?\n",
    "\n",
    "    Give answer in one Line which crop is this.\n",
    "    In next Line give advice how to solve this problem for this crop disease. What actions could be taken.\n",
    "    Mention which fungisides, pesticides or other resources that are needed.\n",
    "\"\"\"\n",
    "response = model.generate_content([\n",
    "    question,\n",
    "    img\n",
    "])\n",
    "\n",
    "print(response.text)"
   ]
  },
  {
   "cell_type": "code",
   "execution_count": null,
   "id": "b9d9d99b",
   "metadata": {},
   "outputs": [],
   "source": []
  }
 ],
 "metadata": {
  "kernelspec": {
   "display_name": "Python 3",
   "language": "python",
   "name": "python3"
  },
  "language_info": {
   "codemirror_mode": {
    "name": "ipython",
    "version": 3
   },
   "file_extension": ".py",
   "mimetype": "text/x-python",
   "name": "python",
   "nbconvert_exporter": "python",
   "pygments_lexer": "ipython3",
   "version": "3.11.3"
  }
 },
 "nbformat": 4,
 "nbformat_minor": 5
}
